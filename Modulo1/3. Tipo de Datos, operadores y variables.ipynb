{
 "cells": [
  {
   "cell_type": "markdown",
   "metadata": {},
   "source": [
    "# VARIABLES, TIPOS DE DATOS SIMPLES Y OPERADORES"
   ]
  },
  {
   "cell_type": "markdown",
   "metadata": {},
   "source": [
    "En programación este apartado aprenderas a utilizar los diferentes tipos de datos que se encuentran disponibles en python, asi como declarar variables y realizar operaciones."
   ]
  },
  {
   "cell_type": "markdown",
   "metadata": {},
   "source": [
    "## 1. Variables"
   ]
  },
  {
   "cell_type": "markdown",
   "metadata": {},
   "source": [
    "Una variable es un identificador que representa un espacio en la memoria. A este espacio se le puede asignar un valor para utilizarlo posteriormente como si se tratase de un valor literal, incluso se puede operar con otras variables y reasignarle otro valor en cualquier momento.\n",
    "\n"
   ]
  },
  {
   "cell_type": "markdown",
   "metadata": {},
   "source": [
    "**La variable me permite almacenar en la memoria de la computadora un valor (numero, texto, etc)**"
   ]
  },
  {
   "cell_type": "markdown",
   "metadata": {},
   "source": [
    "<center><img src=\"https://yosoy.dev/wp-content/uploads/2014/08/variables-en-programacion.png\" ></center>"
   ]
  },
  {
   "cell_type": "markdown",
   "metadata": {},
   "source": [
    "#### 1.1 Declaración de variables en otros lenguajes"
   ]
  },
  {
   "cell_type": "markdown",
   "metadata": {},
   "source": [
    "1. Se declara la variable con su tipo de dato\n",
    "2. Se asigna un valor a la variable"
   ]
  },
  {
   "cell_type": "markdown",
   "metadata": {},
   "source": [
    "<img src='https://www.w3schools.in/wp-content/uploads/2015/03/Declaration-and-assignment-statements.png'  align='left' width=\"600\" height=\"400\" >"
   ]
  },
  {
   "cell_type": "markdown",
   "metadata": {},
   "source": [
    "#### 1.2 Declaración de variables en Python"
   ]
  },
  {
   "cell_type": "markdown",
   "metadata": {},
   "source": [
    "1. Se asigna un valor a una variable (no es necesario declarar tipo de dato)\n",
    "2. Python por defecto interpreta el tipo de dato según el valor recibido"
   ]
  },
  {
   "cell_type": "code",
   "execution_count": null,
   "metadata": {},
   "outputs": [],
   "source": [
    "## 1. Declaremos una variable para mejorar que nos ayude a enviar un mensaje al usuario\n",
    "print('Hola Mundo')"
   ]
  },
  {
   "cell_type": "code",
   "execution_count": null,
   "metadata": {},
   "outputs": [],
   "source": [
    "## 2. Declarando una variable, la cual contiene un texto\n",
    "variable = \"Hola a todos\"\n",
    "print(variable)\n",
    "\n",
    "6+8"
   ]
  },
  {
   "cell_type": "code",
   "execution_count": null,
   "metadata": {},
   "outputs": [],
   "source": [
    "variable"
   ]
  },
  {
   "cell_type": "markdown",
   "metadata": {},
   "source": [
    "### Ejercicio"
   ]
  },
  {
   "cell_type": "markdown",
   "metadata": {},
   "source": [
    "Cree una variable llamada <code>msg</code> la cual almacene un mensaje. Luego imprima dicho mensaje"
   ]
  },
  {
   "cell_type": "code",
   "execution_count": 1,
   "metadata": {},
   "outputs": [
    {
     "name": "stdout",
     "output_type": "stream",
     "text": [
      "Hola\n"
     ]
    }
   ],
   "source": [
    "msg=\"Hola\"\n",
    "print(msg)"
   ]
  },
  {
   "cell_type": "markdown",
   "metadata": {},
   "source": [
    "## Reglas para Nombres de Variables en Python\n",
    "\n",
    "1. **Sensibles a Mayúsculas y Minúsculas:**\n",
    "   - `miVariable` y `mivariable` son consideradas diferentes.\n",
    "\n",
    "2. **Caracteres Permitidos:**\n",
    "   - Pueden contener letras (mayúsculas o minúsculas), números y guiones bajos (_).\n",
    "   - No pueden empezar con un número.\n",
    "\n",
    "3. **Evitar Palabras Reservadas:**\n",
    "   - No uses palabras reservadas del lenguaje como nombres de variables.\n",
    "\n",
    "4. **Descriptivas y Significativas:**\n",
    "   - Elige nombres que describan el propósito o contenido de la variable.\n",
    "\n",
    "5. **Evitar Caracteres Especiales:**\n",
    "   - Evita el uso de caracteres especiales como !, @, #, $, %, etc.\n",
    "\n",
    "6. **Convención Snake Case:**\n",
    "   - Para nombres compuestos, usa snake_case (palabras en minúsculas separadas por guiones bajos).\n",
    "\n",
    "Ejemplos válidos:\n",
    "```python\n",
    "mi_variable = 42\n",
    "nombre_usuario = \"JohnDoe\"\n",
    "contador_intentos = 0\n"
   ]
  },
  {
   "cell_type": "markdown",
   "metadata": {},
   "source": [
    "## 2. Tipo de Datos"
   ]
  },
  {
   "cell_type": "markdown",
   "metadata": {},
   "source": [
    "En la programación todo se resume a datos que representan información. Dicha información en terminos simples la podemos ver como:\n",
    "- Cadenas de texto o strings\n",
    "- Números\n",
    "- fechas\n",
    "- imágenes\n",
    "- sonidos\n",
    "- vídeos\n",
    "- Etc."
   ]
  },
  {
   "cell_type": "markdown",
   "metadata": {},
   "source": [
    "<img src='https://blog.hubspot.es/hubfs/media/tiposdatospython.png' align='left' width=\"600\" height=\"600\">"
   ]
  },
  {
   "cell_type": "markdown",
   "metadata": {},
   "source": [
    "### 2.2 Tipo de Dato texto"
   ]
  },
  {
   "cell_type": "markdown",
   "metadata": {},
   "source": [
    "Inmediatamente después de los números hay que echar un vistazo a las cadenas de texto, a fin de cuentas es la forma como las personas nos comunicamos de forma escrita. Las letras o caracteres son en definitiva símbolos de escritura y otro tipo de dato esencial.\n",
    "\n",
    "Siempre se definen entre comillas simples o dobles:"
   ]
  },
  {
   "cell_type": "code",
   "execution_count": 2,
   "metadata": {},
   "outputs": [
    {
     "data": {
      "text/plain": [
       "'Esta es una cadena de texto'"
      ]
     },
     "execution_count": 2,
     "metadata": {},
     "output_type": "execute_result"
    }
   ],
   "source": [
    "# Usando comillas simples\n",
    "'Esta es una cadena de texto'"
   ]
  },
  {
   "cell_type": "code",
   "execution_count": 3,
   "metadata": {},
   "outputs": [
    {
     "ename": "SyntaxError",
     "evalue": "unterminated string literal (detected at line 1) (3525874809.py, line 1)",
     "output_type": "error",
     "traceback": [
      "  \u001b[36mCell\u001b[39m\u001b[36m \u001b[39m\u001b[32mIn[3]\u001b[39m\u001b[32m, line 1\u001b[39m\n\u001b[31m    \u001b[39m\u001b[31m'I'ts fine'\u001b[39m\n              ^\n\u001b[31mSyntaxError\u001b[39m\u001b[31m:\u001b[39m unterminated string literal (detected at line 1)\n"
     ]
    }
   ],
   "source": [
    "'I'ts fine'"
   ]
  },
  {
   "cell_type": "code",
   "execution_count": 4,
   "metadata": {},
   "outputs": [
    {
     "data": {
      "text/plain": [
       "\"it's fine\""
      ]
     },
     "execution_count": 4,
     "metadata": {},
     "output_type": "execute_result"
    }
   ],
   "source": [
    "\"it's fine\""
   ]
  },
  {
   "cell_type": "code",
   "execution_count": null,
   "metadata": {},
   "outputs": [],
   "source": [
    "# Cadena usando comillas dobles\n",
    "\"Esta' es otra cadena de texto\""
   ]
  },
  {
   "cell_type": "code",
   "execution_count": null,
   "metadata": {},
   "outputs": [],
   "source": [
    "\"Hola\n",
    "como estas\""
   ]
  },
  {
   "cell_type": "code",
   "execution_count": null,
   "metadata": {},
   "outputs": [],
   "source": [
    "# Cadena de más de una linea \n",
    "\n",
    "# \\n -> representa salto de linea\n",
    "# \\t -> representa tab (4 espacios normalmente)\n",
    "\n",
    "# Comentario -> es una breve nota que se coloca \n",
    "#               Nos ayuda a tener más clara la lógica que se esta siguiendo\n",
    "msg = \"\"\"\n",
    "Esta cadena\\ttiene más de una línea\n",
    "por lo que se usa\n",
    "3 comillas dobles\n",
    "dasdas\n",
    "\"\"\"\n",
    "print(msg) # imprimo variable en jupyter"
   ]
  },
  {
   "cell_type": "code",
   "execution_count": 5,
   "metadata": {},
   "outputs": [
    {
     "data": {
      "text/plain": [
       "'Hola'"
      ]
     },
     "execution_count": 5,
     "metadata": {},
     "output_type": "execute_result"
    }
   ],
   "source": [
    "msg"
   ]
  },
  {
   "cell_type": "code",
   "execution_count": 6,
   "metadata": {},
   "outputs": [
    {
     "data": {
      "text/plain": [
       "'Este es un\\ntexto \\t Hola'"
      ]
     },
     "execution_count": 6,
     "metadata": {},
     "output_type": "execute_result"
    }
   ],
   "source": [
    "texto = 'Este es un\\ntexto \\t Hola' # alt + 92 = \\\n",
    "texto"
   ]
  },
  {
   "cell_type": "code",
   "execution_count": 7,
   "metadata": {},
   "outputs": [
    {
     "name": "stdout",
     "output_type": "stream",
     "text": [
      "Este es un\n",
      "texto \t Hola\n"
     ]
    }
   ],
   "source": [
    "print(texto)"
   ]
  },
  {
   "cell_type": "markdown",
   "metadata": {},
   "source": [
    "- Almacenando cadenas en variables"
   ]
  },
  {
   "cell_type": "code",
   "execution_count": 8,
   "metadata": {},
   "outputs": [],
   "source": [
    "# Recuerda que podemos utilizar variables para almacenar una cadena de texto\n",
    "texto = \"Este es un texto\""
   ]
  },
  {
   "cell_type": "code",
   "execution_count": 9,
   "metadata": {},
   "outputs": [
    {
     "data": {
      "text/plain": [
       "str"
      ]
     },
     "execution_count": 9,
     "metadata": {},
     "output_type": "execute_result"
    }
   ],
   "source": [
    "type(texto) # str -> string (cadena de texto)"
   ]
  },
  {
   "cell_type": "markdown",
   "metadata": {},
   "source": [
    "#### Algunas Operaciones Basicas de Cadena"
   ]
  },
  {
   "cell_type": "markdown",
   "metadata": {},
   "source": [
    "Una vez que ya conocemos que es una cadena veamos algunas operaciones básicas con las cadenas de texto"
   ]
  },
  {
   "cell_type": "code",
   "execution_count": null,
   "metadata": {},
   "outputs": [],
   "source": [
    "cad1 = \"Hola\"\n",
    "cad2 = \"Mundo\""
   ]
  },
  {
   "cell_type": "code",
   "execution_count": 10,
   "metadata": {},
   "outputs": [
    {
     "name": "stdout",
     "output_type": "stream",
     "text": [
      "Un divertido programa de radio\n",
      "Un divertido programa\n"
     ]
    }
   ],
   "source": [
    "## Concadenar dos cadenas de texto\n",
    "\n",
    "print(\"Un divertido \"+\"programa \"+\"de \"+ \"radio\")\n",
    "\n",
    "## Usando variables\n",
    "# Esto es igual a : \"HolaMundo\"\n",
    "cad1 = \"Un divertido \"\n",
    "cad2 = \"programa\"\n",
    "\n",
    "print(cad1 + cad2)"
   ]
  },
  {
   "cell_type": "code",
   "execution_count": null,
   "metadata": {},
   "outputs": [],
   "source": [
    "print(cad1 , cad2)"
   ]
  },
  {
   "cell_type": "code",
   "execution_count": 11,
   "metadata": {},
   "outputs": [
    {
     "name": "stdout",
     "output_type": "stream",
     "text": [
      "Hola\n",
      "HolaHolaHola\n"
     ]
    }
   ],
   "source": [
    "## Multiplicar una cadena \n",
    "print('Hola')\n",
    "print('Hola'*3)"
   ]
  },
  {
   "cell_type": "code",
   "execution_count": null,
   "metadata": {},
   "outputs": [],
   "source": [
    "'hola'*0"
   ]
  },
  {
   "cell_type": "code",
   "execution_count": null,
   "metadata": {},
   "outputs": [],
   "source": [
    "## Conocer largo de una cadena\n",
    "len('H     ola') # cadena de 4 caracteres"
   ]
  },
  {
   "cell_type": "code",
   "execution_count": null,
   "metadata": {},
   "outputs": [],
   "source": [
    "## Identificando el tipo de dato\n",
    "y = 'h'\n",
    "type(y)"
   ]
  },
  {
   "cell_type": "code",
   "execution_count": null,
   "metadata": {},
   "outputs": [],
   "source": [
    "## Convirtiendo a string\n",
    "str(59)"
   ]
  },
  {
   "cell_type": "markdown",
   "metadata": {},
   "source": [
    "### 2.2.Tipos de Datos Numéricos"
   ]
  },
  {
   "cell_type": "markdown",
   "metadata": {},
   "source": [
    "Representan valores numéricos.\n",
    "- Enteros (int): Representan números enteros\n",
    "- Decimales (float): Representan valores decimales"
   ]
  },
  {
   "cell_type": "code",
   "execution_count": null,
   "metadata": {},
   "outputs": [],
   "source": [
    "# Int -> Valores enteros\n",
    "3"
   ]
  },
  {
   "cell_type": "code",
   "execution_count": null,
   "metadata": {},
   "outputs": [],
   "source": [
    "x = 5\n",
    "print(x)"
   ]
  },
  {
   "cell_type": "code",
   "execution_count": null,
   "metadata": {},
   "outputs": [],
   "source": [
    "# Float -> Representan valores con coma decimal\n",
    "3.14"
   ]
  },
  {
   "cell_type": "code",
   "execution_count": null,
   "metadata": {},
   "outputs": [],
   "source": [
    "y = 8.17\n",
    "print(y)"
   ]
  },
  {
   "cell_type": "markdown",
   "metadata": {},
   "source": [
    "#### Identificando los tipos de datos"
   ]
  },
  {
   "cell_type": "code",
   "execution_count": null,
   "metadata": {},
   "outputs": [],
   "source": [
    "type(8)"
   ]
  },
  {
   "cell_type": "code",
   "execution_count": null,
   "metadata": {},
   "outputs": [],
   "source": [
    "p = 12.34234\n",
    "type(p)"
   ]
  },
  {
   "cell_type": "code",
   "execution_count": null,
   "metadata": {},
   "outputs": [],
   "source": [
    "type('3')"
   ]
  },
  {
   "cell_type": "markdown",
   "metadata": {},
   "source": [
    "#### Operaciones sobre números"
   ]
  },
  {
   "cell_type": "markdown",
   "metadata": {},
   "source": [
    "Representan el conjunto de operaciones básicas de tipo numéricas\n",
    "\n",
    "<img src='./img/operadores.png'>"
   ]
  },
  {
   "cell_type": "code",
   "execution_count": null,
   "metadata": {},
   "outputs": [],
   "source": [
    "## Indistintamente si un numero es \"int\" or \"float\" es posible realizar operaciones sobre ellos\n",
    "numero_1 = 12\n",
    "numero_2 = 8.5"
   ]
  },
  {
   "cell_type": "code",
   "execution_count": null,
   "metadata": {},
   "outputs": [],
   "source": [
    "# sumando\n",
    "print(numero_1 + numero_2)\n",
    "\n",
    "# Restando \n",
    "print(numero_1 - numero_2)\n",
    "\n",
    "# Multiplicando: 12 * 2 = 24\n",
    "print(numero_1 * 2)\n",
    "\n",
    "# Diviendo : 12 / 2 = 6\n",
    "print(numero_1 / 2)\n",
    "\n",
    "# Potencia : 12 ** 2 = 144\n",
    "print(numero_1 ** 2)\n"
   ]
  },
  {
   "cell_type": "code",
   "execution_count": null,
   "metadata": {},
   "outputs": [],
   "source": [
    "# // -> representa el cociente de la división\n",
    "140//8"
   ]
  },
  {
   "cell_type": "code",
   "execution_count": null,
   "metadata": {},
   "outputs": [],
   "source": [
    "17 *8"
   ]
  },
  {
   "cell_type": "code",
   "execution_count": null,
   "metadata": {},
   "outputs": [],
   "source": [
    "# modulo -> representa el resto de la división\n",
    "140%8 "
   ]
  },
  {
   "cell_type": "code",
   "execution_count": null,
   "metadata": {},
   "outputs": [],
   "source": [
    "# 140 = 17*8 + 4"
   ]
  },
  {
   "cell_type": "code",
   "execution_count": null,
   "metadata": {},
   "outputs": [],
   "source": [
    "## Módulo de un número -> Me brinda el residuo de la división entre dos numeros\n",
    "## 7 = 3 * 2 + 1 (1 es el residuo de la división)\n",
    "## a / b -> residuo = 0    (División Exacta | a es un múltiplo de b| a es divisible por b)\n",
    "\n",
    "7 %  3"
   ]
  },
  {
   "cell_type": "markdown",
   "metadata": {},
   "source": [
    "#### Otras Operaciones Básicas"
   ]
  },
  {
   "cell_type": "code",
   "execution_count": null,
   "metadata": {},
   "outputs": [],
   "source": [
    "int(3.55) # int() -> convierte otro tipo de dato a entero"
   ]
  },
  {
   "cell_type": "code",
   "execution_count": null,
   "metadata": {},
   "outputs": [],
   "source": [
    "int('3') # Convierto String a entero"
   ]
  },
  {
   "cell_type": "code",
   "execution_count": null,
   "metadata": {},
   "outputs": [],
   "source": [
    "float(3) # Convierto \"int\" a float"
   ]
  },
  {
   "cell_type": "code",
   "execution_count": null,
   "metadata": {},
   "outputs": [],
   "source": [
    "float('3.245') # Convierto \"String\" a float"
   ]
  },
  {
   "cell_type": "markdown",
   "metadata": {},
   "source": [
    "### Ejercicios"
   ]
  },
  {
   "cell_type": "markdown",
   "metadata": {},
   "source": [
    "1. Escribir un programa que calcule el área de un circulo de radio r= 6"
   ]
  },
  {
   "cell_type": "code",
   "execution_count": null,
   "metadata": {},
   "outputs": [],
   "source": []
  },
  {
   "cell_type": "code",
   "execution_count": null,
   "metadata": {},
   "outputs": [],
   "source": []
  },
  {
   "cell_type": "markdown",
   "metadata": {},
   "source": [
    "2. Calcular la Fuerza en Newtons de un cuerpo con masa m = 4 kg y una aceleracion a= 3 m/s"
   ]
  },
  {
   "cell_type": "markdown",
   "metadata": {},
   "source": [
    "\\begin{equation}\n",
    "   F = m * a\n",
    "\\end{equation}"
   ]
  },
  {
   "cell_type": "code",
   "execution_count": null,
   "metadata": {},
   "outputs": [],
   "source": []
  },
  {
   "cell_type": "markdown",
   "metadata": {},
   "source": [
    "### 2.3 Tipo de Datos Booleanos"
   ]
  },
  {
   "cell_type": "markdown",
   "metadata": {},
   "source": [
    "Definen un valor de Verdadero o Falso según sea el caso\n",
    "\n",
    "Se representa: \n",
    "- verdadero = True\n",
    "- falso = False\n"
   ]
  },
  {
   "cell_type": "code",
   "execution_count": null,
   "metadata": {},
   "outputs": [],
   "source": [
    "True"
   ]
  },
  {
   "cell_type": "code",
   "execution_count": null,
   "metadata": {},
   "outputs": [],
   "source": [
    "# cualquier número excepto el 0 se interpreta como verdadero\n",
    "bool(20)"
   ]
  },
  {
   "cell_type": "code",
   "execution_count": null,
   "metadata": {},
   "outputs": [],
   "source": [
    "False"
   ]
  },
  {
   "cell_type": "code",
   "execution_count": null,
   "metadata": {},
   "outputs": [],
   "source": [
    "bool(0)"
   ]
  },
  {
   "cell_type": "code",
   "execution_count": null,
   "metadata": {},
   "outputs": [],
   "source": [
    "## Conociendo el tipo de dato\n",
    "type(True)"
   ]
  },
  {
   "cell_type": "markdown",
   "metadata": {},
   "source": [
    "#### 3.2 Operadores Relacionales (De comparación)"
   ]
  },
  {
   "cell_type": "markdown",
   "metadata": {},
   "source": [
    "Sirven para comparar dos valores, dependiendo del resultado de la comparación se devolverá:\n",
    "\n",
    "- Verdadero (True), si es cierta\n",
    "- Falso (False), si no es cierta"
   ]
  },
  {
   "cell_type": "markdown",
   "metadata": {},
   "source": [
    "<img src='https://programacionpython.files.wordpress.com/2008/07/signos1.jpg' align='left' width=\"400\" height=\"300\">"
   ]
  },
  {
   "cell_type": "code",
   "execution_count": null,
   "metadata": {},
   "outputs": [],
   "source": [
    "# Comparando dos valores \n",
    "a = 3\n",
    "b = 's'\n",
    "# Comparando a y b\n",
    "\n",
    "#  comparati el valor y el tipo de dato\n",
    "a == b"
   ]
  },
  {
   "cell_type": "code",
   "execution_count": null,
   "metadata": {},
   "outputs": [],
   "source": [
    "a != b"
   ]
  },
  {
   "cell_type": "code",
   "execution_count": null,
   "metadata": {},
   "outputs": [],
   "source": [
    "# b > c  -> no es comparable str and int\n",
    "\n",
    "a > b\n"
   ]
  },
  {
   "cell_type": "code",
   "execution_count": null,
   "metadata": {},
   "outputs": [],
   "source": [
    "c = 5\n",
    "# Mayor que\n",
    "a > c"
   ]
  },
  {
   "cell_type": "code",
   "execution_count": null,
   "metadata": {},
   "outputs": [],
   "source": [
    " 3 > '3'"
   ]
  },
  {
   "cell_type": "markdown",
   "metadata": {},
   "source": [
    "**Cuidado:**\n",
    "\n",
    "Tener en cuenta lo siguiente para implementar sus lógicas"
   ]
  },
  {
   "cell_type": "markdown",
   "metadata": {},
   "source": [
    "<img src='https://docs.hektorprofe.net/cdn/images/figura_1.png'>"
   ]
  },
  {
   "cell_type": "markdown",
   "metadata": {},
   "source": [
    "#### 3.3 Operadores Lógicos"
   ]
  },
  {
   "cell_type": "markdown",
   "metadata": {},
   "source": [
    "Encontramos 3 operadores especiales para realizar operaciones lógicas. Normalmente se utilizan para agrupar, excluir y negar expresiones. Puede ayudar echar un vistazo a esta explicación sobre las tablas de la verdad:\n",
    "\n",
    "- Not\n",
    "- And\n",
    "- Or"
   ]
  },
  {
   "cell_type": "markdown",
   "metadata": {},
   "source": [
    "<img src='./img/logicos.png' style=\"vertical-align:middle\" >"
   ]
  },
  {
   "cell_type": "code",
   "execution_count": null,
   "metadata": {},
   "outputs": [],
   "source": [
    "# Hallando el valor de verdad de la siguiente expresión\n",
    "(9 < 12) and (12 > 7) "
   ]
  },
  {
   "cell_type": "markdown",
   "metadata": {},
   "source": [
    "### Ejercicios"
   ]
  },
  {
   "cell_type": "markdown",
   "metadata": {},
   "source": [
    "1. Expresión a evaluar: \n",
    "        \n",
    "        2 > p\n",
    "para el valor p = 5"
   ]
  },
  {
   "cell_type": "code",
   "execution_count": 1,
   "metadata": {},
   "outputs": [
    {
     "data": {
      "text/plain": [
       "False"
      ]
     },
     "execution_count": 1,
     "metadata": {},
     "output_type": "execute_result"
    }
   ],
   "source": [
    "p = 5\n",
    "2 > p"
   ]
  },
  {
   "cell_type": "markdown",
   "metadata": {},
   "source": [
    "2. Expresión a evaluar: \n",
    "\n",
    "       8 == b and not b < 0\n",
    "\n",
    "para el valor b = 0"
   ]
  },
  {
   "cell_type": "code",
   "execution_count": 2,
   "metadata": {},
   "outputs": [
    {
     "name": "stdout",
     "output_type": "stream",
     "text": [
      "False\n"
     ]
    }
   ],
   "source": [
    "b = 0\n",
    "respuesta = (8 == b and not b < 0)\n",
    "print(respuesta)"
   ]
  },
  {
   "cell_type": "markdown",
   "metadata": {},
   "source": [
    "# Notas Adicionales"
   ]
  },
  {
   "cell_type": "code",
   "execution_count": null,
   "metadata": {},
   "outputs": [],
   "source": [
    "PI = 3.14 # constantes\n",
    "\n",
    "# variables\n",
    "# ---------------------\n",
    "#  se escriben en minuscula, no se colocan signos especiales(!,#,*)\n",
    "#  no se deben emplear palabras reservadas\n",
    "\n",
    "# bool = 4\n",
    "\n",
    "# variable1 = 2    SI\n",
    "# variable_1 = 1   SI \n",
    "# variable,1 = 2 NO\n",
    "\n",
    "# print = 10  NO   'print' palabra reservada\n"
   ]
  },
  {
   "cell_type": "markdown",
   "metadata": {},
   "source": [
    "#### Funcion Type() \n",
    "Nos ayudará a conocer el tipo de dato de la variable"
   ]
  },
  {
   "cell_type": "code",
   "execution_count": null,
   "metadata": {},
   "outputs": [],
   "source": [
    "# Conociendo el tipo de dato de la variable número\n",
    "type(numero)"
   ]
  },
  {
   "cell_type": "code",
   "execution_count": null,
   "metadata": {},
   "outputs": [],
   "source": [
    "# Pasando un numero como texto\n",
    "numero_texto ='3.14'\n",
    "numero_texto = float(numero_texto) # reasingacion de variable\n",
    "type(numero_texto)"
   ]
  },
  {
   "cell_type": "code",
   "execution_count": null,
   "metadata": {},
   "outputs": [],
   "source": []
  },
  {
   "cell_type": "markdown",
   "metadata": {},
   "source": [
    "#### Operadores de Asignación"
   ]
  },
  {
   "cell_type": "markdown",
   "metadata": {},
   "source": [
    "Permiten la asignación de nuevos valores a las variables de forma rápida"
   ]
  },
  {
   "cell_type": "markdown",
   "metadata": {},
   "source": [
    "<b>Suma en asignación</b>\n",
    "<p>Nos ayuda sumar un número dado a la variable de forma rápida </p>\n"
   ]
  },
  {
   "cell_type": "code",
   "execution_count": 3,
   "metadata": {},
   "outputs": [
    {
     "data": {
      "text/plain": [
       "7"
      ]
     },
     "execution_count": 3,
     "metadata": {},
     "output_type": "execute_result"
    }
   ],
   "source": [
    "# Defino a como 5\n",
    "a = 5 # 1. asigno 5 a la variable 'a'\n",
    "\n",
    "a = a + 2\n",
    "a"
   ]
  },
  {
   "cell_type": "code",
   "execution_count": null,
   "metadata": {},
   "outputs": [],
   "source": [
    "a = a + 2 # 2. El valor de 'a' va a ser 'a' + 2 (5 + 2) -> 7\n",
    "print(a) # 3. Imprimo el valor de 'a' = 7"
   ]
  },
  {
   "cell_type": "code",
   "execution_count": null,
   "metadata": {},
   "outputs": [],
   "source": [
    "# Aumento dos a la variable a (a = a+2)\n",
    "a += 2"
   ]
  },
  {
   "cell_type": "code",
   "execution_count": null,
   "metadata": {},
   "outputs": [],
   "source": [
    "a"
   ]
  },
  {
   "cell_type": "code",
   "execution_count": null,
   "metadata": {},
   "outputs": [],
   "source": [
    "# a = a * 10\n",
    "a *= 10\n",
    "a"
   ]
  },
  {
   "cell_type": "code",
   "execution_count": null,
   "metadata": {},
   "outputs": [],
   "source": [
    "a /= 5\n",
    "a"
   ]
  },
  {
   "cell_type": "code",
   "execution_count": null,
   "metadata": {},
   "outputs": [],
   "source": []
  }
 ],
 "metadata": {
  "kernelspec": {
   "display_name": ".venv",
   "language": "python",
   "name": "python3"
  },
  "language_info": {
   "codemirror_mode": {
    "name": "ipython",
    "version": 3
   },
   "file_extension": ".py",
   "mimetype": "text/x-python",
   "name": "python",
   "nbconvert_exporter": "python",
   "pygments_lexer": "ipython3",
   "version": "3.11.2"
  }
 },
 "nbformat": 4,
 "nbformat_minor": 4
}
